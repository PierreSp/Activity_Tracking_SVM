{
 "cells": [
  {
   "cell_type": "code",
   "execution_count": 1,
   "metadata": {
    "collapsed": false,
    "deletable": true,
    "editable": true
   },
   "outputs": [],
   "source": [
    "%matplotlib inline"
   ]
  },
  {
   "cell_type": "code",
   "execution_count": null,
   "metadata": {
    "collapsed": true,
    "deletable": true,
    "editable": true
   },
   "outputs": [],
   "source": [
    "import data_processor\n",
    "import data_processor_testfile\n",
    "import classification\n",
    "import numpy as np\n",
    "import plot_roc\n",
    "import matplotlib.pyplot as plt\n",
    "import seaborn as sns\n",
    "import pandas as pd\n",
    "from sklearn.model_selection import cross_val_score, train_test_split\n",
    "sns.set(style=\"ticks\", color_codes=True)"
   ]
  },
  {
   "cell_type": "markdown",
   "metadata": {
    "deletable": true,
    "editable": true
   },
   "source": [
    "## Load data"
   ]
  },
  {
   "cell_type": "code",
   "execution_count": null,
   "metadata": {
    "collapsed": false,
    "deletable": true,
    "editable": true
   },
   "outputs": [],
   "source": [
    "df_2016 = data_processor.load_dataframe('data/data2016.mat')\n",
    "df_2016['shoe'] = df_2016.label == 'shoe'\n",
    "df_2017 = data_processor.load_dataframe('data/data2017.mat')\n",
    "df_2017['shoe'] = df_2017.label == 'shoe'\n",
    "df_2018 = data_processor.load_dataframe('data/data2018.mat')\n",
    "df_2018['shoe'] = df_2018.label == 'shoe'\n",
    "\n",
    "df_test = data_processor_testfile.load_data('data/testData.mat')\n",
    "\n",
    "df_all = pd.concat((df_2016, df_2017, df_2018))\n",
    "\n",
    "DATASETS = {\"2016\": df_2016, \"2017\": df_2017, \"2018\": df_2018, \"all years merged\": df_all}"
   ]
  },
  {
   "cell_type": "markdown",
   "metadata": {
    "deletable": true,
    "editable": true
   },
   "source": [
    "## Visualization\n"
   ]
  },
  {
   "cell_type": "code",
   "execution_count": null,
   "metadata": {
    "collapsed": false,
    "deletable": true,
    "editable": true
   },
   "outputs": [],
   "source": [
    "g = sns.PairGrid(df_all.drop(\"shoe\", axis=1), hue=\"label\")\n",
    "g = g.map_upper(plt.scatter)\n",
    "g = g.map_lower(sns.kdeplot)\n",
    "g = g.map_diag(plt.hist)\n",
    "g = g.add_legend()"
   ]
  },
  {
   "cell_type": "markdown",
   "metadata": {
    "deletable": true,
    "editable": true
   },
   "source": [
    "## Machine learning..."
   ]
  },
  {
   "cell_type": "code",
   "execution_count": null,
   "metadata": {
    "collapsed": false,
    "deletable": true,
    "editable": true
   },
   "outputs": [],
   "source": [
    "for name, dataset in DATASETS.items():\n",
    "    print(f\"Calculation SVM with rbf kernel for the data of {name}:\")\n",
    "    classification.cross_validation_svm(dataset.drop([\"label\", \"shoe\"], axis=1), dataset.shoe)\n",
    "    classification.run_svm(dataset.drop([\"label\", \"shoe\"], axis=1), dataset.shoe)"
   ]
  },
  {
   "cell_type": "markdown",
   "metadata": {},
   "source": [
    "# Plot ROC"
   ]
  },
  {
   "cell_type": "code",
   "execution_count": null,
   "metadata": {
    "collapsed": false
   },
   "outputs": [],
   "source": [
    "data, label = DATASETS[\"2018\"].drop([\"label\", \"shoe\"], axis=1), DATASETS[\"2018\"].shoe\n",
    "clf, _, _, _ = classification.run_svm(data, label)\n",
    "plot_roc.plot_roc(clf, data, label)"
   ]
  },
  {
   "cell_type": "code",
   "execution_count": null,
   "metadata": {
    "collapsed": true
   },
   "outputs": [],
   "source": []
  }
 ],
 "metadata": {
  "kernelspec": {
   "display_name": "Python 3",
   "language": "python",
   "name": "python3"
  },
  "language_info": {
   "codemirror_mode": {
    "name": "ipython",
    "version": 3
   },
   "file_extension": ".py",
   "mimetype": "text/x-python",
   "name": "python",
   "nbconvert_exporter": "python",
   "pygments_lexer": "ipython3",
   "version": "3.6.0"
  }
 },
 "nbformat": 4,
 "nbformat_minor": 2
}
