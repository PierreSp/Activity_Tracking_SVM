{
 "cells": [
  {
   "cell_type": "code",
   "execution_count": 1,
   "metadata": {
    "collapsed": false,
    "deletable": true,
    "editable": true
   },
   "outputs": [],
   "source": [
    "%matplotlib inline"
   ]
  },
  {
   "cell_type": "code",
   "execution_count": null,
   "metadata": {
    "collapsed": true,
    "deletable": true,
    "editable": true
   },
   "outputs": [],
   "source": [
    "import data_processor\n",
    "import data_processor_testfile\n",
    "import classification\n",
    "import numpy as np\n",
    "import plot_roc\n",
    "import matplotlib.pyplot as plt\n",
    "import seaborn as sns\n",
    "import pandas as pd\n",
    "from sklearn.model_selection import cross_val_score, train_test_split\n",
    "sns.set(style=\"ticks\", color_codes=True)"
   ]
  },
  {
   "cell_type": "markdown",
   "metadata": {
    "deletable": true,
    "editable": true
   },
   "source": [
    "## Load data"
   ]
  },
  {
   "cell_type": "code",
   "execution_count": null,
   "metadata": {
    "collapsed": false,
    "deletable": true,
    "editable": true
   },
   "outputs": [
    {
     "name": "stdout",
     "output_type": "stream",
     "text": [
      "               x         y         z\n",
      "2561    6.331878  3.420906  4.532736\n",
      "2689    6.671095  3.678622  4.242827\n",
      "2817    6.727728  3.799321  4.116601\n",
      "2945    6.653021  3.917709  4.081336\n",
      "3073    6.573661  3.969506  4.057940\n",
      "3201    6.495975  3.967181  4.117565\n",
      "3329    6.417650  3.934161  4.216971\n",
      "3457    6.314217  4.104233  4.140659\n",
      "3585    6.177811  4.520486  3.938150\n",
      "3713    6.007654  4.915366  3.893782\n",
      "3841    5.925613  5.129844  3.869559\n",
      "3969    5.828107  5.355829  3.889722\n",
      "4097    5.644661  5.193025  3.902584\n",
      "4225    5.385509  4.860869  3.921125\n",
      "4353    5.153046  4.452026  3.865428\n",
      "4481    4.939340  4.080635  3.827882\n",
      "4609    4.841708  3.658351  3.784375\n",
      "4737    4.919384  2.850092  3.967299\n",
      "4865    4.974304  2.072882  4.153366\n",
      "4993    5.012650  1.256512  4.208705\n",
      "5121    4.895024  0.588080  4.179401\n",
      "5249    4.788844 -0.132083  4.138199\n",
      "5377    4.841774 -0.887158  4.001966\n",
      "5505    4.874663 -1.586203  3.989095\n",
      "5633    4.862079 -2.268245  3.967483\n",
      "5761    4.921492 -2.958539  3.969524\n",
      "5889    4.827947 -3.592046  4.061008\n",
      "6017    4.667054 -4.244139  4.333487\n",
      "6145    4.577688 -4.978232  4.588978\n",
      "6273    4.476616 -5.705278  4.711667\n",
      "...          ...       ...       ...\n",
      "149889  7.037570 -0.634762  5.787461\n",
      "150017  6.882651 -0.474325  6.086774\n",
      "150145  6.776509 -0.152087  6.354102\n",
      "150273  6.681530  0.058510  6.548233\n",
      "150401  6.876832  0.206814  6.458222\n",
      "150529  7.075535  0.377394  6.372779\n",
      "150657  7.175101  0.519413  6.304470\n",
      "150785  7.299031  0.675710  6.229231\n",
      "150913  7.313705  0.874955  6.270437\n",
      "151041  7.160193  1.008143  6.473234\n",
      "151169  7.241133  1.137399  6.423347\n",
      "151297  7.103607  1.224098  6.556696\n",
      "151425  6.961188  1.310661  6.700940\n",
      "151553  6.860813  1.379276  6.815688\n",
      "151681  6.730875  1.457201  6.954931\n",
      "151809  6.548953  1.516256  7.104590\n",
      "151937  6.436210  1.579720  7.225745\n",
      "152065  6.322046  1.660007  7.346180\n",
      "152193  6.269769  1.689541  7.390195\n",
      "152321  6.234975  1.708985  7.423324\n",
      "152449  6.239882  1.711064  7.417387\n",
      "152577  6.240357  1.717011  7.420859\n",
      "152705  6.231381  1.646961  7.415778\n",
      "152833  6.000701  1.577528  7.540804\n",
      "152961  5.836307  1.378053  7.624700\n",
      "153089  5.548957  1.219163  7.722812\n",
      "153217  5.099109  1.042378  7.797241\n",
      "153345  4.654625  0.874654  7.872913\n",
      "153473  4.259692  0.698814  7.956065\n",
      "153601  3.831598  0.540193  8.065684\n",
      "\n",
      "[1181 rows x 3 columns]\n"
     ]
    }
   ],
   "source": [
    "df_2016 = data_processor.load_dataframe('data/data2016.mat')\n",
    "df_2016['shoe'] = df_2016.label == 'shoe'\n",
    "df_2017 = data_processor.load_dataframe('data/data2017.mat')\n",
    "df_2017['shoe'] = df_2017.label == 'shoe'\n",
    "df_2018 = data_processor.load_dataframe('data/data2018.mat')\n",
    "df_2018['shoe'] = df_2018.label == 'shoe'\n",
    "\n",
    "df_test = data_processor_testfile.load_data('data/testData.mat')\n",
    "\n",
    "df_all = pd.concat((df_2016, df_2017, df_2018))\n",
    "\n",
    "DATASETS = {\"2016\": df_2016, \"2017\": df_2017, \"2018\": df_2018, \"all years merged\": df_all}"
   ]
  },
  {
   "cell_type": "markdown",
   "metadata": {
    "deletable": true,
    "editable": true
   },
   "source": [
    "## Visualization\n"
   ]
  },
  {
   "cell_type": "code",
   "execution_count": null,
   "metadata": {
    "collapsed": false,
    "deletable": true,
    "editable": true
   },
   "outputs": [],
   "source": [
    "g = sns.PairGrid(df_all.drop(\"shoe\", axis=1), hue=\"label\")\n",
    "g = g.map_upper(plt.scatter)\n",
    "g = g.map_lower(sns.kdeplot)\n",
    "g = g.map_diag(plt.hist)\n",
    "g = g.add_legend()"
   ]
  },
  {
   "cell_type": "markdown",
   "metadata": {
    "deletable": true,
    "editable": true
   },
   "source": [
    "## Machine learning..."
   ]
  },
  {
   "cell_type": "code",
   "execution_count": null,
   "metadata": {
    "collapsed": false,
    "deletable": true,
    "editable": true
   },
   "outputs": [],
   "source": [
    "for name, dataset in DATASETS.items():\n",
    "    print(f\"Calculation SVM with rbf kernel for the data of {name}:\")\n",
    "    classification.cross_validation_svm(dataset.drop([\"label\", \"shoe\"], axis=1), dataset.shoe)\n",
    "    classification.run_svm(dataset.drop([\"label\", \"shoe\"], axis=1), dataset.shoe)"
   ]
  },
  {
   "cell_type": "markdown",
   "metadata": {
    "deletable": true,
    "editable": true
   },
   "source": [
    "# Plot ROC"
   ]
  },
  {
   "cell_type": "code",
   "execution_count": null,
   "metadata": {
    "collapsed": false,
    "deletable": true,
    "editable": true
   },
   "outputs": [],
   "source": [
    "data, label = DATASETS[\"2018\"].drop([\"label\", \"shoe\"], axis=1), DATASETS[\"2018\"].shoe\n",
    "clf, _, _, _ = classification.run_svm(data, label)\n",
    "plot_roc.plot_roc(clf, data, label)"
   ]
  },
  {
   "cell_type": "code",
   "execution_count": null,
   "metadata": {
    "collapsed": true,
    "deletable": true,
    "editable": true
   },
   "outputs": [],
   "source": []
  }
 ],
 "metadata": {
  "kernelspec": {
   "display_name": "Python 3",
   "language": "python",
   "name": "python3"
  },
  "language_info": {
   "codemirror_mode": {
    "name": "ipython",
    "version": 3
   },
   "file_extension": ".py",
   "mimetype": "text/x-python",
   "name": "python",
   "nbconvert_exporter": "python",
   "pygments_lexer": "ipython3",
   "version": "3.6.0"
  }
 },
 "nbformat": 4,
 "nbformat_minor": 2
}
